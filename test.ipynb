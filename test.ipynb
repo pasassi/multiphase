{
 "cells": [
  {
   "cell_type": "markdown",
   "metadata": {},
   "source": [
    "# ML model to recognize two-phase flows regimes"
   ]
  },
  {
   "cell_type": "markdown",
   "metadata": {},
   "source": [
    "## Import modules"
   ]
  },
  {
   "cell_type": "code",
   "execution_count": 1,
   "metadata": {},
   "outputs": [],
   "source": [
    "# Import modules\n",
    "# ------------------------------------------------------------------------------ #\n",
    "# Built-in modules\n",
    "import os\n",
    "# os.environ['TF_CPP_MIN_LOG_LEVEL'] = '2' \n",
    "import glob\n",
    "import random\n",
    "\n",
    "# Third-party modules\n",
    "import numpy as np\n",
    "import pandas as pd\n",
    "import tensorflow as tf\n",
    "import matplotlib.pyplot as plt\n",
    "# ------------------------------------------------------------------------------ #"
   ]
  },
  {
   "cell_type": "markdown",
   "metadata": {},
   "source": [
    "## Image data generator"
   ]
  },
  {
   "cell_type": "code",
   "execution_count": 2,
   "metadata": {},
   "outputs": [],
   "source": [
    "# Input data\n",
    "# ------------------------------------------------------------------------------ #\n",
    "n_img = 1000 # number of images to take from each run\n",
    "\n",
    "# Labels\n",
    "# 1 - Plug Flow; 2 - Transition Flow; 3 - Slug Flow\n",
    "\n",
    "# Initialize lists\n",
    "training_imgs = []\n",
    "training_labels = []\n",
    "\n",
    "# ------------------------------------------------------------------------------ #\n",
    "# Data from Slug-Frequency campaign\n",
    "# ------------------------------------------------------------------------------ #\n",
    "IJMF_dir = '/media/psassi/URV/Paolo/URV/data/FastCam/3_Freq/Velocity/2P'\n",
    "IJMF_regimes = [2, 2, 2, 2, 2, 3, 3, 3, 3, 3, 3, 3, 3, 3, 3, 3, 3, 3, 3, 3]\n",
    "#\n",
    "dir_contents = os.listdir(IJMF_dir)\n",
    "dir_contents.sort()\n",
    "two_phase_runs = []\n",
    "for run in dir_contents:\n",
    "    if '2P' in run:\n",
    "        two_phase_runs.append(os.path.join(IJMF_dir,run))\n",
    "two_phase_runs.sort()\n",
    "#\n",
    "for i, run in enumerate(two_phase_runs):\n",
    "    imgs_path = os.path.join(run, 'PPS_images', \"*png\")\n",
    "    files = glob.glob(imgs_path)\n",
    "    training_imgs.extend(random.sample(files,n_img))\n",
    "    training_labels.extend([str(IJMF_regimes[i])]*n_img)\n",
    "# ------------------------------------------------------------------------------ #"
   ]
  },
  {
   "cell_type": "code",
   "execution_count": 3,
   "metadata": {},
   "outputs": [],
   "source": [
    "# ------------------------------------------------------------------------------ #\n",
    "# Data from ECMF campaign\n",
    "# ------------------------------------------------------------------------------ #\n",
    "FTaC_dir = '/media/psassi/URV/Paolo/URV/data/FastCam/2_FTaC/Backlight/2P'\n",
    "FTaC_regimes = [1, 1, 1, 1, 1, 1, 1, 2, 1, 2, 2, 2, 2, 2, 3, 3, 2, 3, 3]\n",
    "#\n",
    "dir_contents = os.listdir(FTaC_dir)\n",
    "dir_contents.sort()\n",
    "FTaC_runs = []\n",
    "for run in dir_contents:\n",
    "    if '2P' in run:\n",
    "        FTaC_runs.append(os.path.join(FTaC_dir,run))\n",
    "FTaC_runs.sort()\n",
    "#\n",
    "for i, run in enumerate(FTaC_runs):\n",
    "    imgs_path = os.path.join(run, 'PNG_images', \"*png\")\n",
    "    files = glob.glob(imgs_path)\n",
    "    training_imgs.extend(random.sample(files,n_img))\n",
    "    training_labels.extend([str(FTaC_regimes[i])]*n_img)\n",
    "# ------------------------------------------------------------------------------ #"
   ]
  },
  {
   "cell_type": "code",
   "execution_count": 4,
   "metadata": {},
   "outputs": [
    {
     "name": "stdout",
     "output_type": "stream",
     "text": [
      "Found 31200 validated image filenames belonging to 3 classes.\n",
      "Found 7800 validated image filenames belonging to 3 classes.\n"
     ]
    }
   ],
   "source": [
    "from sklearn.model_selection import train_test_split\n",
    "from tensorflow.keras.preprocessing.image import ImageDataGenerator\n",
    "\n",
    "# Make pandas Data Frame\n",
    "two_phase_pd = pd.DataFrame(\n",
    "    zip(training_imgs,training_labels), columns=['Files', 'Labels']\n",
    "    )\n",
    "\n",
    "# Divide training and testing data frames\n",
    "train_df, test_df = train_test_split(two_phase_pd, test_size=0.2)\n",
    "\n",
    "# Make train generator\n",
    "train_generator = ImageDataGenerator().flow_from_dataframe(\n",
    "    train_df,\n",
    "    x_col='Files',\n",
    "    y_col='Labels',\n",
    "    target_size=(512, 256),\n",
    "    color_mode='grayscale',\n",
    "    class_mode='sparse',\n",
    "    batch_size=64,\n",
    ")\n",
    "\n",
    "# Make test generator\n",
    "test_generator = ImageDataGenerator().flow_from_dataframe(\n",
    "    test_df,\n",
    "    x_col='Files',\n",
    "    y_col='Labels',\n",
    "    target_size=(512, 256),\n",
    "    color_mode='grayscale',\n",
    "    class_mode='sparse',\n",
    "    batch_size=64,\n",
    ")"
   ]
  },
  {
   "cell_type": "markdown",
   "metadata": {},
   "source": [
    "## Build the model"
   ]
  },
  {
   "cell_type": "code",
   "execution_count": 5,
   "metadata": {},
   "outputs": [
    {
     "name": "stderr",
     "output_type": "stream",
     "text": [
      "2022-02-04 12:53:07.462104: I tensorflow/stream_executor/cuda/cuda_gpu_executor.cc:936] successful NUMA node read from SysFS had negative value (-1), but there must be at least one NUMA node, so returning NUMA node zero\n",
      "2022-02-04 12:53:07.470646: I tensorflow/stream_executor/cuda/cuda_gpu_executor.cc:936] successful NUMA node read from SysFS had negative value (-1), but there must be at least one NUMA node, so returning NUMA node zero\n",
      "2022-02-04 12:53:07.471314: I tensorflow/stream_executor/cuda/cuda_gpu_executor.cc:936] successful NUMA node read from SysFS had negative value (-1), but there must be at least one NUMA node, so returning NUMA node zero\n"
     ]
    },
    {
     "name": "stdout",
     "output_type": "stream",
     "text": [
      "Model: \"sequential\"\n",
      "_________________________________________________________________\n",
      " Layer (type)                Output Shape              Param #   \n",
      "=================================================================\n",
      " conv2d (Conv2D)             (None, 510, 254, 16)      160       \n",
      "                                                                 \n",
      " max_pooling2d (MaxPooling2D  (None, 255, 127, 16)     0         \n",
      " )                                                               \n",
      "                                                                 \n",
      " conv2d_1 (Conv2D)           (None, 253, 125, 32)      4640      \n",
      "                                                                 \n",
      " max_pooling2d_1 (MaxPooling  (None, 126, 62, 32)      0         \n",
      " 2D)                                                             \n",
      "                                                                 \n",
      " conv2d_2 (Conv2D)           (None, 124, 60, 64)       18496     \n",
      "                                                                 \n",
      " max_pooling2d_2 (MaxPooling  (None, 62, 30, 64)       0         \n",
      " 2D)                                                             \n",
      "                                                                 \n",
      " conv2d_3 (Conv2D)           (None, 60, 28, 64)        36928     \n",
      "                                                                 \n",
      " max_pooling2d_3 (MaxPooling  (None, 30, 14, 64)       0         \n",
      " 2D)                                                             \n",
      "                                                                 \n",
      " conv2d_4 (Conv2D)           (None, 28, 12, 64)        36928     \n",
      "                                                                 \n",
      " max_pooling2d_4 (MaxPooling  (None, 14, 6, 64)        0         \n",
      " 2D)                                                             \n",
      "                                                                 \n",
      " flatten (Flatten)           (None, 5376)              0         \n",
      "                                                                 \n",
      " dense (Dense)               (None, 512)               2753024   \n",
      "                                                                 \n",
      " dense_1 (Dense)             (None, 3)                 1539      \n",
      "                                                                 \n",
      "=================================================================\n",
      "Total params: 2,851,715\n",
      "Trainable params: 2,851,715\n",
      "Non-trainable params: 0\n",
      "_________________________________________________________________\n"
     ]
    },
    {
     "name": "stderr",
     "output_type": "stream",
     "text": [
      "2022-02-04 12:53:07.473005: I tensorflow/core/platform/cpu_feature_guard.cc:151] This TensorFlow binary is optimized with oneAPI Deep Neural Network Library (oneDNN) to use the following CPU instructions in performance-critical operations:  AVX2 FMA\n",
      "To enable them in other operations, rebuild TensorFlow with the appropriate compiler flags.\n",
      "2022-02-04 12:53:07.473710: I tensorflow/stream_executor/cuda/cuda_gpu_executor.cc:936] successful NUMA node read from SysFS had negative value (-1), but there must be at least one NUMA node, so returning NUMA node zero\n",
      "2022-02-04 12:53:07.474000: I tensorflow/stream_executor/cuda/cuda_gpu_executor.cc:936] successful NUMA node read from SysFS had negative value (-1), but there must be at least one NUMA node, so returning NUMA node zero\n",
      "2022-02-04 12:53:07.474418: I tensorflow/stream_executor/cuda/cuda_gpu_executor.cc:936] successful NUMA node read from SysFS had negative value (-1), but there must be at least one NUMA node, so returning NUMA node zero\n",
      "2022-02-04 12:53:07.854446: I tensorflow/stream_executor/cuda/cuda_gpu_executor.cc:936] successful NUMA node read from SysFS had negative value (-1), but there must be at least one NUMA node, so returning NUMA node zero\n",
      "2022-02-04 12:53:07.854733: I tensorflow/stream_executor/cuda/cuda_gpu_executor.cc:936] successful NUMA node read from SysFS had negative value (-1), but there must be at least one NUMA node, so returning NUMA node zero\n",
      "2022-02-04 12:53:07.854968: I tensorflow/stream_executor/cuda/cuda_gpu_executor.cc:936] successful NUMA node read from SysFS had negative value (-1), but there must be at least one NUMA node, so returning NUMA node zero\n",
      "2022-02-04 12:53:07.855189: I tensorflow/core/common_runtime/gpu/gpu_device.cc:1525] Created device /job:localhost/replica:0/task:0/device:GPU:0 with 4795 MB memory:  -> device: 0, name: NVIDIA GeForce GTX 980 Ti, pci bus id: 0000:01:00.0, compute capability: 5.2\n"
     ]
    }
   ],
   "source": [
    "model = tf.keras.models.Sequential([\n",
    "    # Note the input shape is the desired size of the image 512x256 with 1 byte color\n",
    "    tf.keras.layers.Conv2D(16, (3,3), activation='relu', input_shape=(512, 256, 1)),\n",
    "    tf.keras.layers.MaxPooling2D(2,2),\n",
    "    tf.keras.layers.Conv2D(32, (3,3), activation='relu'),\n",
    "    tf.keras.layers.MaxPooling2D(2,2), \n",
    "    tf.keras.layers.Conv2D(64, (3,3), activation='relu'), \n",
    "    tf.keras.layers.MaxPooling2D(2,2),\n",
    "    tf.keras.layers.Conv2D(64, (3,3), activation='relu'), \n",
    "    tf.keras.layers.MaxPooling2D(2,2),\n",
    "    tf.keras.layers.Conv2D(64, (3,3), activation='relu'), \n",
    "    tf.keras.layers.MaxPooling2D(2,2),\n",
    "    # Flatten the results to feed into a DNN\n",
    "    tf.keras.layers.Flatten(), \n",
    "    # 512 neuron hidden layer\n",
    "    tf.keras.layers.Dense(512, activation='relu'), \n",
    "    tf.keras.layers.Dense(3, activation='softmax')  \n",
    "])\n",
    "\n",
    "model.summary()"
   ]
  },
  {
   "cell_type": "code",
   "execution_count": 6,
   "metadata": {},
   "outputs": [],
   "source": [
    "model.compile(optimizer=tf.keras.optimizers.Adam(learning_rate=1e-3),\n",
    "              loss='sparse_categorical_crossentropy',\n",
    "              metrics = ['accuracy'])"
   ]
  },
  {
   "cell_type": "code",
   "execution_count": 7,
   "metadata": {},
   "outputs": [
    {
     "name": "stdout",
     "output_type": "stream",
     "text": [
      "Epoch 1/10\n"
     ]
    },
    {
     "name": "stderr",
     "output_type": "stream",
     "text": [
      "2022-02-04 12:53:30.182016: I tensorflow/stream_executor/cuda/cuda_dnn.cc:368] Loaded cuDNN version 8302\n",
      "2022-02-04 12:53:30.365729: W tensorflow/stream_executor/gpu/asm_compiler.cc:111] *** WARNING *** You are using ptxas 10.1.243, which is older than 11.1. ptxas before 11.1 is known to miscompile XLA code, leading to incorrect results or invalid-address errors.\n",
      "\n",
      "You may not need to update to CUDA 11.1; cherry-picking the ptxas binary is often sufficient.\n"
     ]
    },
    {
     "name": "stdout",
     "output_type": "stream",
     "text": [
      "488/488 - 1876s - loss: 1.0584 - accuracy: 0.6837 - val_loss: 0.4702 - val_accuracy: 0.7950 - 1876s/epoch - 4s/step\n",
      "Epoch 2/10\n",
      "488/488 - 1354s - loss: 0.4150 - accuracy: 0.8195 - val_loss: 0.3477 - val_accuracy: 0.8540 - 1354s/epoch - 3s/step\n",
      "Epoch 3/10\n",
      "488/488 - 1315s - loss: 0.2948 - accuracy: 0.8724 - val_loss: 0.2965 - val_accuracy: 0.8744 - 1315s/epoch - 3s/step\n",
      "Epoch 4/10\n",
      "488/488 - 1290s - loss: 0.2336 - accuracy: 0.8982 - val_loss: 0.2209 - val_accuracy: 0.9033 - 1290s/epoch - 3s/step\n",
      "Epoch 5/10\n",
      "488/488 - 1129s - loss: 0.1729 - accuracy: 0.9262 - val_loss: 0.1633 - val_accuracy: 0.9303 - 1129s/epoch - 2s/step\n",
      "Epoch 6/10\n",
      "488/488 - 1310s - loss: 0.1361 - accuracy: 0.9418 - val_loss: 0.2086 - val_accuracy: 0.9191 - 1310s/epoch - 3s/step\n",
      "Epoch 7/10\n",
      "488/488 - 1211s - loss: 0.1091 - accuracy: 0.9549 - val_loss: 0.1491 - val_accuracy: 0.9350 - 1211s/epoch - 2s/step\n",
      "Epoch 8/10\n",
      "488/488 - 1552s - loss: 0.0965 - accuracy: 0.9604 - val_loss: 0.1280 - val_accuracy: 0.9464 - 1552s/epoch - 3s/step\n",
      "Epoch 9/10\n",
      "488/488 - 1286s - loss: 0.0667 - accuracy: 0.9741 - val_loss: 0.1354 - val_accuracy: 0.9529 - 1286s/epoch - 3s/step\n",
      "Epoch 10/10\n",
      "488/488 - 1297s - loss: 0.0548 - accuracy: 0.9782 - val_loss: 0.1059 - val_accuracy: 0.9626 - 1297s/epoch - 3s/step\n"
     ]
    }
   ],
   "source": [
    "history = model.fit(\n",
    "            train_generator,\n",
    "            epochs=10,\n",
    "            validation_data=test_generator,\n",
    "            verbose=2\n",
    "            )"
   ]
  },
  {
   "cell_type": "code",
   "execution_count": 9,
   "metadata": {},
   "outputs": [
    {
     "data": {
      "text/plain": [
       "Text(0.5, 1.0, 'Training and validation loss')"
      ]
     },
     "execution_count": 9,
     "metadata": {},
     "output_type": "execute_result"
    },
    {
     "data": {
      "image/png": "[encoded data removed]",
      "text/plain": [
       "<Figure size 432x288 with 1 Axes>"
      ]
     },
     "metadata": {
      "needs_background": "light"
     },
     "output_type": "display_data"
    },
    {
     "data": {
      "image/png": "[encoded data removed]",
      "text/plain": [
       "<Figure size 432x288 with 1 Axes>"
      ]
     },
     "metadata": {
      "needs_background": "light"
     },
     "output_type": "display_data"
    }
   ],
   "source": [
    "#-----------------------------------------------------------\n",
    "# Retrieve a list of list results on training and test data\n",
    "# sets for each training epoch\n",
    "#-----------------------------------------------------------\n",
    "acc      = history.history[     'accuracy' ]\n",
    "val_acc  = history.history[ 'val_accuracy' ]\n",
    "loss     = history.history[    'loss' ]\n",
    "val_loss = history.history['val_loss' ]\n",
    "\n",
    "epochs   = range(len(acc)) # Get number of epochs\n",
    "\n",
    "#------------------------------------------------\n",
    "# Plot training and validation accuracy per epoch\n",
    "#------------------------------------------------\n",
    "plt.plot  ( epochs,     acc )\n",
    "plt.plot  ( epochs, val_acc )\n",
    "plt.title ('Training and validation accuracy')\n",
    "plt.figure()\n",
    "\n",
    "#------------------------------------------------\n",
    "# Plot training and validation loss per epoch\n",
    "#------------------------------------------------\n",
    "plt.plot  ( epochs,     loss )\n",
    "plt.plot  ( epochs, val_loss )\n",
    "plt.title ('Training and validation loss'   )"
   ]
  },
  {
   "cell_type": "code",
   "execution_count": 8,
   "metadata": {},
   "outputs": [],
   "source": [
    "model.save('./src/models/regime_identifier.h5')"
   ]
  }
 ],
 "metadata": {
  "interpreter": {
   "hash": "2dbaf4359c2a958b783ce42a9991ed8d1c11e36bbd197a9687ff522daae34dd3"
  },
  "kernelspec": {
   "display_name": "Python 3.8.10 64-bit ('.venv': pipenv)",
   "language": "python",
   "name": "python3"
  },
  "language_info": {
   "codemirror_mode": {
    "name": "ipython",
    "version": 3
   },
   "file_extension": ".py",
   "mimetype": "text/x-python",
   "name": "python",
   "nbconvert_exporter": "python",
   "pygments_lexer": "ipython3",
   "version": "3.8.10"
  },
  "orig_nbformat": 4
 },
 "nbformat": 4,
 "nbformat_minor": 2
}
