{
 "cells": [
  {
   "cell_type": "markdown",
   "metadata": {},
   "source": [
    "# ML model to recognize two-phase flows regimes"
   ]
  },
  {
   "cell_type": "markdown",
   "metadata": {},
   "source": [
    "## Import modules"
   ]
  },
  {
   "cell_type": "code",
   "execution_count": 1,
   "metadata": {},
   "outputs": [],
   "source": [
    "# Import modules\n",
    "# ------------------------------------------------------------------------------ #\n",
    "# Built-in modules\n",
    "import os\n",
    "import glob\n",
    "import random\n",
    "\n",
    "# Third-party modules\n",
    "import numpy as np\n",
    "import pandas as pd\n",
    "import tensorflow as tf\n",
    "import matplotlib.pyplot as plt\n",
    "# ------------------------------------------------------------------------------ #"
   ]
  },
  {
   "cell_type": "markdown",
   "metadata": {},
   "source": [
    "## Image data generator"
   ]
  },
  {
   "cell_type": "code",
   "execution_count": 2,
   "metadata": {},
   "outputs": [],
   "source": [
    "# Input data\n",
    "# ------------------------------------------------------------------------------ #\n",
    "n_img = 10 # number of images to take from each run\n",
    "\n",
    "# Labels\n",
    "# 1 - Plug Flow; 2 - Transition Flow; 3 - Slug Flow\n",
    "\n",
    "# Initialize lists\n",
    "training_imgs = []\n",
    "training_labels = []\n",
    "\n",
    "# ------------------------------------------------------------------------------ #\n",
    "# Data from Slug-Frequency campaign\n",
    "# ------------------------------------------------------------------------------ #\n",
    "IJMF_dir = '/media/psassi/URV/Paolo/URV/data/FastCam/3_Freq/Velocity/2P'\n",
    "IJMF_regimes = [2, 2, 2, 2, 2, 3, 3, 3, 3, 3, 3, 3, 3, 3, 3, 3, 3, 3, 3, 3]\n",
    "#\n",
    "dir_contents = os.listdir(IJMF_dir)\n",
    "dir_contents.sort()\n",
    "two_phase_runs = []\n",
    "for run in dir_contents:\n",
    "    if '2P' in run:\n",
    "        two_phase_runs.append(os.path.join(IJMF_dir,run))\n",
    "two_phase_runs.sort()\n",
    "#\n",
    "for i, run in enumerate(two_phase_runs):\n",
    "    imgs_path = os.path.join(run, 'PPS_images', \"*png\")\n",
    "    files = glob.glob(imgs_path)\n",
    "    training_imgs.extend(random.sample(files,n_img))\n",
    "    training_labels.extend([IJMF_regimes[i]]*n_img)\n",
    "# ------------------------------------------------------------------------------ #"
   ]
  },
  {
   "cell_type": "code",
   "execution_count": 5,
   "metadata": {},
   "outputs": [],
   "source": [
    "# ------------------------------------------------------------------------------ #\n",
    "# Data from ECMF campaign\n",
    "# ------------------------------------------------------------------------------ #\n",
    "FTaC_dir = '/media/psassi/URV/Paolo/URV/data/FastCam/2_FTaC/Backlight/2P'\n",
    "FTaC_regimes = [1, 1, 1, 1, 1, 1, 1, 2, 1, 2, 2, 2, 2, 2, 3, 3, 2, 3, 3]\n",
    "#\n",
    "dir_contents = os.listdir(FTaC_dir)\n",
    "dir_contents.sort()\n",
    "FTaC_runs = []\n",
    "for run in dir_contents:\n",
    "    if '2P' in run:\n",
    "        FTaC_runs.append(os.path.join(FTaC_dir,run))\n",
    "FTaC_runs.sort()\n",
    "#\n",
    "for i, run in enumerate(FTaC_runs):\n",
    "    imgs_path = os.path.join(run, 'PNG_images', \"*png\")\n",
    "    files = glob.glob(imgs_path)\n",
    "    training_imgs.extend(random.sample(files,n_img))\n",
    "    training_labels.extend([FTaC_regimes[i]]*n_img)\n",
    "# ------------------------------------------------------------------------------ #"
   ]
  },
  {
   "cell_type": "code",
   "execution_count": 15,
   "metadata": {},
   "outputs": [],
   "source": [
    "# Make pandas Data Frame\n",
    "two_phase_pd = pd.DataFrame(\n",
    "    list(zip(training_imgs,training_labels)), columns=['Files', 'Labels']\n",
    "    )"
   ]
  },
  {
   "cell_type": "code",
   "execution_count": 8,
   "metadata": {},
   "outputs": [],
   "source": [
    "from tensorflow.keras.preprocessing.image import ImageDataGenerator\n",
    "\n",
    "train_generator = ImageDataGenerator().flow_from_dataframe(\n",
    "    two_phase_pd,\n",
    "    x_col='Files',\n",
    "    y_col='Labels',\n",
    "    target_size=(512, 256),\n",
    "    color_mode='grayscale',\n",
    "    class_mode='categorical',\n",
    "    batch_size=32,\n",
    ")\n",
    "\n",
    "train_generator"
   ]
  }
 ],
 "metadata": {
  "interpreter": {
   "hash": "2dbaf4359c2a958b783ce42a9991ed8d1c11e36bbd197a9687ff522daae34dd3"
  },
  "kernelspec": {
   "display_name": "Python 3.8.10 64-bit ('.venv': pipenv)",
   "language": "python",
   "name": "python3"
  },
  "language_info": {
   "codemirror_mode": {
    "name": "ipython",
    "version": 3
   },
   "file_extension": ".py",
   "mimetype": "text/x-python",
   "name": "python",
   "nbconvert_exporter": "python",
   "pygments_lexer": "ipython3",
   "version": "3.8.10"
  },
  "orig_nbformat": 4
 },
 "nbformat": 4,
 "nbformat_minor": 2
}
